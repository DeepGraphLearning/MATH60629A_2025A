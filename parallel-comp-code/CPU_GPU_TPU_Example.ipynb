{
  "nbformat": 4,
  "nbformat_minor": 0,
  "metadata": {
    "colab": {
      "provenance": []
    },
    "kernelspec": {
      "name": "python3",
      "display_name": "Python 3"
    },
    "language_info": {
      "name": "python"
    },
    "accelerator": "TPU"
  },
  "cells": [
    {
      "cell_type": "markdown",
      "metadata": {
        "id": "ygPyPscHvyC3"
      },
      "source": [
        "##Comparaison du temps de calcul pour multiplier deux matrices sur CPU, GPU et TPU"
      ]
    },
    {
      "cell_type": "code",
      "metadata": {
        "id": "LtoOaOCt6qpf"
      },
      "source": [
        "import numpy as np\n",
        "import os"
      ],
      "execution_count": null,
      "outputs": []
    },
    {
      "cell_type": "markdown",
      "metadata": {
        "id": "I72cf7aKuDoD"
      },
      "source": [
        "###CPU"
      ]
    },
    {
      "cell_type": "code",
      "metadata": {
        "colab": {
          "base_uri": "https://localhost:8080/"
        },
        "id": "wp-dVW-X7tse",
        "outputId": "f649cd82-447b-46c2-d4e0-cd9ca70394e6"
      },
      "source": [
        "%%time\n",
        "a = np.random.rand(1000, 1000)\n",
        "b = np.random.rand(1000, 1000)\n",
        "c = np.dot(a,b)"
      ],
      "execution_count": null,
      "outputs": [
        {
          "output_type": "stream",
          "name": "stdout",
          "text": [
            "CPU times: user 141 ms, sys: 55.7 ms, total: 197 ms\n",
            "Wall time: 170 ms\n"
          ]
        }
      ]
    },
    {
      "cell_type": "code",
      "metadata": {
        "id": "L-xjE3rI6JJW"
      },
      "source": [
        "del c"
      ],
      "execution_count": null,
      "outputs": []
    },
    {
      "cell_type": "markdown",
      "metadata": {
        "id": "6p0PQkf0uAmp"
      },
      "source": [
        "### GPU"
      ]
    },
    {
      "cell_type": "code",
      "metadata": {
        "id": "gLTmSOQNu4fe"
      },
      "source": [
        "import os\n",
        "import torch\n",
        "#'Make sure to select GPU from Edit > Notebook settings > Hardware accelerator'"
      ],
      "execution_count": null,
      "outputs": []
    },
    {
      "cell_type": "code",
      "metadata": {
        "id": "t4rKsek3WXiP"
      },
      "source": [
        "torch.cuda.is_available()"
      ],
      "execution_count": null,
      "outputs": []
    },
    {
      "cell_type": "code",
      "metadata": {
        "id": "5z1yqjwl8QWN"
      },
      "source": [
        "%%time\n",
        "a = torch.rand(1000, 1000);\n",
        "b = torch.rand(1000, 1000);\n",
        "c = torch.matmul(a,b)"
      ],
      "execution_count": null,
      "outputs": []
    },
    {
      "cell_type": "code",
      "metadata": {
        "id": "fcF_j2Jm1xLh"
      },
      "source": [
        "print(c)\n",
        "del c"
      ],
      "execution_count": null,
      "outputs": []
    },
    {
      "cell_type": "markdown",
      "metadata": {
        "id": "l5jzIW0Ot66T"
      },
      "source": [
        "###TPU\n",
        "\n",
        "code venant de: https://colab.research.google.com/github/pytorch/xla/blob/master/contrib/colab/getting-started.ipynb"
      ]
    },
    {
      "cell_type": "code",
      "metadata": {
        "id": "qZ_Du822shBN"
      },
      "source": [
        "# !export XRT_TPU_CONFIG=\"tpu_worker;0;$TPU_IP_ADDRESS:8470\"\n",
        "import os\n",
        "# assert os.environ['COLAB_TPU_ADDR'], 'Make sure to select TPU from Edit > Notebook settings > Hardware accelerator'"
      ],
      "execution_count": null,
      "outputs": []
    },
    {
      "cell_type": "code",
      "source": [
        "!pip install torch~=2.2.0 torch_xla[tpu]~=2.2.0 -f https://storage.googleapis.com/libtpu-releases/index.html"
      ],
      "metadata": {
        "id": "cG_mCQFC8f6M"
      },
      "execution_count": null,
      "outputs": []
    },
    {
      "cell_type": "code",
      "metadata": {
        "id": "sJdAdYlyaNx7"
      },
      "source": [
        "# imports pytorch\n",
        "import torch\n",
        "\n",
        "# imports the torch_xla package\n",
        "import torch_xla\n",
        "import torch_xla.core.xla_model as xm"
      ],
      "execution_count": null,
      "outputs": []
    },
    {
      "cell_type": "code",
      "metadata": {
        "id": "uiGiJLDZalAl"
      },
      "source": [
        "# Creates a random tensor on xla:1 (a Cloud TPU core)\n",
        "dev = xm.xla_device()"
      ],
      "execution_count": null,
      "outputs": []
    },
    {
      "cell_type": "code",
      "metadata": {
        "colab": {
          "base_uri": "https://localhost:8080/"
        },
        "id": "b6HIoqfXaZvG",
        "outputId": "ed69f7d1-070d-47f7-94ff-1584ba4c0a81"
      },
      "source": [
        "%%time\n",
        "a = torch.rand(1000, 1000, device=dev);\n",
        "b = torch.rand(1000, 1000, device=dev);\n",
        "c = torch.matmul(a, b)"
      ],
      "execution_count": null,
      "outputs": [
        {
          "output_type": "stream",
          "name": "stdout",
          "text": [
            "CPU times: user 1.73 ms, sys: 3.95 ms, total: 5.69 ms\n",
            "Wall time: 5.81 ms\n"
          ]
        }
      ]
    },
    {
      "cell_type": "code",
      "metadata": {
        "id": "lgNjtJCR1cBf"
      },
      "source": [
        "print(c.dtype)\n",
        "print(c)\n",
        "print(c.shape)\n",
        "del c"
      ],
      "execution_count": null,
      "outputs": []
    },
    {
      "cell_type": "code",
      "source": [],
      "metadata": {
        "id": "2yWjDcFc94oU"
      },
      "execution_count": null,
      "outputs": []
    }
  ]
}
