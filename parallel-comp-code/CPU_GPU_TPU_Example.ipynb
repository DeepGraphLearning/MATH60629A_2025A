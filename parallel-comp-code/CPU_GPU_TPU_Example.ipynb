{
  "nbformat": 4,
  "nbformat_minor": 0,
  "metadata": {
    "colab": {
      "provenance": []
    },
    "kernelspec": {
      "name": "python3",
      "display_name": "Python 3"
    },
    "language_info": {
      "name": "python"
    },
    "accelerator": "TPU"
  },
  "cells": [
    {
      "cell_type": "markdown",
      "metadata": {
        "id": "ygPyPscHvyC3"
      },
      "source": [
        "##Comparaison du temps de calcul pour multiplier deux matrices sur CPU, GPU et TPU"
      ]
    },
    {
      "cell_type": "code",
      "metadata": {
        "id": "LtoOaOCt6qpf"
      },
      "source": [
        "import numpy as np\n",
        "import os"
      ],
      "execution_count": null,
      "outputs": []
    },
    {
      "cell_type": "markdown",
      "metadata": {
        "id": "I72cf7aKuDoD"
      },
      "source": [
        "###CPU"
      ]
    },
    {
      "cell_type": "code",
      "metadata": {
        "colab": {
          "base_uri": "https://localhost:8080/"
        },
        "id": "wp-dVW-X7tse",
        "outputId": "f649cd82-447b-46c2-d4e0-cd9ca70394e6"
      },
      "source": [
        "%%time\n",
        "a = np.random.rand(1000, 1000)\n",
        "b = np.random.rand(1000, 1000)\n",
        "c = np.dot(a,b)"
      ],
      "execution_count": null,
      "outputs": [
        {
          "output_type": "stream",
          "name": "stdout",
          "text": [
            "CPU times: user 141 ms, sys: 55.7 ms, total: 197 ms\n",
            "Wall time: 170 ms\n"
          ]
        }
      ]
    },
    {
      "cell_type": "code",
      "metadata": {
        "id": "L-xjE3rI6JJW"
      },
      "source": [
        "del c"
      ],
      "execution_count": null,
      "outputs": []
    },
    {
      "cell_type": "markdown",
      "metadata": {
        "id": "6p0PQkf0uAmp"
      },
      "source": [
        "### GPU"
      ]
    },
    {
      "cell_type": "code",
      "metadata": {
        "id": "gLTmSOQNu4fe"
      },
      "source": [
        "import os\n",
        "import torch\n",
        "#'Make sure to select GPU from Edit > Notebook settings > Hardware accelerator'"
      ],
      "execution_count": null,
      "outputs": []
    },
    {
      "cell_type": "code",
      "metadata": {
        "colab": {
          "base_uri": "https://localhost:8080/"
        },
        "id": "t4rKsek3WXiP",
        "outputId": "981c395a-2252-459e-d3b1-6d1422b23d1d"
      },
      "source": [
        "torch.cuda.is_available()"
      ],
      "execution_count": null,
      "outputs": [
        {
          "output_type": "execute_result",
          "data": {
            "text/plain": [
              "True"
            ]
          },
          "metadata": {},
          "execution_count": 2
        }
      ]
    },
    {
      "cell_type": "code",
      "metadata": {
        "colab": {
          "base_uri": "https://localhost:8080/"
        },
        "id": "sCiIZBTlWdow",
        "outputId": "b70ee7f3-303c-4bf0-8622-409e07db87c0"
      },
      "source": [
        "torch.cuda.device_count()"
      ],
      "execution_count": null,
      "outputs": [
        {
          "output_type": "execute_result",
          "data": {
            "text/plain": [
              "1"
            ]
          },
          "metadata": {},
          "execution_count": 3
        }
      ]
    },
    {
      "cell_type": "code",
      "metadata": {
        "colab": {
          "base_uri": "https://localhost:8080/",
          "height": 37
        },
        "id": "CDI6gzXeWeZQ",
        "outputId": "174763da-fcb6-467d-b208-acc93a195753"
      },
      "source": [
        "torch.cuda.get_device_name(0)"
      ],
      "execution_count": null,
      "outputs": [
        {
          "output_type": "execute_result",
          "data": {
            "text/plain": [
              "'Tesla T4'"
            ],
            "application/vnd.google.colaboratory.intrinsic+json": {
              "type": "string"
            }
          },
          "metadata": {},
          "execution_count": 4
        }
      ]
    },
    {
      "cell_type": "code",
      "metadata": {
        "colab": {
          "base_uri": "https://localhost:8080/"
        },
        "id": "5z1yqjwl8QWN",
        "outputId": "97d14b08-2e38-4535-f89b-79c93122c90d"
      },
      "source": [
        "%%time\n",
        "a = torch.rand(1000, 1000);\n",
        "b = torch.rand(1000, 1000);\n",
        "c = torch.matmul(a,b)"
      ],
      "execution_count": null,
      "outputs": [
        {
          "output_type": "stream",
          "name": "stdout",
          "text": [
            "CPU times: user 43 ms, sys: 4.17 ms, total: 47.1 ms\n",
            "Wall time: 47.5 ms\n"
          ]
        }
      ]
    },
    {
      "cell_type": "code",
      "metadata": {
        "colab": {
          "base_uri": "https://localhost:8080/"
        },
        "id": "fcF_j2Jm1xLh",
        "outputId": "ceef1169-25de-4090-bff0-058e6e885cba"
      },
      "source": [
        "print(c)\n",
        "del c"
      ],
      "execution_count": null,
      "outputs": [
        {
          "output_type": "stream",
          "name": "stdout",
          "text": [
            "tensor([[248.1517, 245.0721, 242.1672,  ..., 254.9422, 245.2887, 241.0029],\n",
            "        [247.5911, 253.1586, 249.6252,  ..., 262.9163, 250.3418, 244.5657],\n",
            "        [251.0631, 252.1050, 252.4055,  ..., 261.7623, 248.5118, 252.3186],\n",
            "        ...,\n",
            "        [247.6631, 248.3964, 254.5886,  ..., 263.5047, 246.1418, 245.1975],\n",
            "        [249.6748, 250.6779, 252.4393,  ..., 258.6091, 253.6389, 253.5940],\n",
            "        [250.7154, 249.5149, 251.4993,  ..., 259.5664, 250.7678, 247.4307]])\n"
          ]
        }
      ]
    },
    {
      "cell_type": "markdown",
      "metadata": {
        "id": "l5jzIW0Ot66T"
      },
      "source": [
        "###TPU\n",
        "\n",
        "code venant de: https://colab.research.google.com/github/pytorch/xla/blob/master/contrib/colab/getting-started.ipynb"
      ]
    },
    {
      "cell_type": "code",
      "metadata": {
        "id": "qZ_Du822shBN"
      },
      "source": [
        "# !export XRT_TPU_CONFIG=\"tpu_worker;0;$TPU_IP_ADDRESS:8470\"\n",
        "import os\n",
        "# assert os.environ['COLAB_TPU_ADDR'], 'Make sure to select TPU from Edit > Notebook settings > Hardware accelerator'"
      ],
      "execution_count": null,
      "outputs": []
    },
    {
      "cell_type": "code",
      "source": [
        "!pip install torch~=2.2.0 torch_xla[tpu]~=2.2.0 -f https://storage.googleapis.com/libtpu-releases/index.html"
      ],
      "metadata": {
        "id": "cG_mCQFC8f6M"
      },
      "execution_count": null,
      "outputs": []
    },
    {
      "cell_type": "code",
      "metadata": {
        "colab": {
          "base_uri": "https://localhost:8080/"
        },
        "id": "sJdAdYlyaNx7",
        "outputId": "2a5bdb87-975d-4b7b-eac3-ca06021dd86c"
      },
      "source": [
        "# imports pytorch\n",
        "import torch\n",
        "\n",
        "# imports the torch_xla package\n",
        "import torch_xla\n",
        "import torch_xla.core.xla_model as xm"
      ],
      "execution_count": null,
      "outputs": [
        {
          "output_type": "stream",
          "name": "stderr",
          "text": [
            "/usr/local/lib/python3.10/dist-packages/jax/__init__.py:27: UserWarning: cloud_tpu_init failed: KeyError('')\n",
            " This a JAX bug; please report an issue at https://github.com/google/jax/issues\n",
            "  _warn(f\"cloud_tpu_init failed: {repr(exc)}\\n This a JAX bug; please report \"\n"
          ]
        }
      ]
    },
    {
      "cell_type": "code",
      "metadata": {
        "id": "uiGiJLDZalAl",
        "colab": {
          "base_uri": "https://localhost:8080/"
        },
        "outputId": "f4150e3a-b265-4fa5-8648-5140ea893caa"
      },
      "source": [
        "# Creates a random tensor on xla:1 (a Cloud TPU core)\n",
        "dev = xm.xla_device()"
      ],
      "execution_count": null,
      "outputs": [
        {
          "output_type": "stream",
          "name": "stderr",
          "text": [
            "WARNING:root:PJRT is now the default runtime. For more information, see https://github.com/pytorch/xla/blob/master/docs/pjrt.md\n",
            "WARNING:root:Defaulting to PJRT_DEVICE=CPU\n"
          ]
        }
      ]
    },
    {
      "cell_type": "code",
      "metadata": {
        "colab": {
          "base_uri": "https://localhost:8080/"
        },
        "id": "b6HIoqfXaZvG",
        "outputId": "ed69f7d1-070d-47f7-94ff-1584ba4c0a81"
      },
      "source": [
        "%%time\n",
        "a = torch.rand(1000, 1000, device=dev);\n",
        "b = torch.rand(1000, 1000, device=dev);\n",
        "c = torch.matmul(a, b)"
      ],
      "execution_count": null,
      "outputs": [
        {
          "output_type": "stream",
          "name": "stdout",
          "text": [
            "CPU times: user 1.73 ms, sys: 3.95 ms, total: 5.69 ms\n",
            "Wall time: 5.81 ms\n"
          ]
        }
      ]
    },
    {
      "cell_type": "code",
      "metadata": {
        "colab": {
          "base_uri": "https://localhost:8080/"
        },
        "id": "lgNjtJCR1cBf",
        "outputId": "7da223aa-956f-4c1a-a15d-3803dbafe41b"
      },
      "source": [
        "print(c.dtype)\n",
        "print(c)\n",
        "print(c.shape)\n",
        "del c"
      ],
      "execution_count": null,
      "outputs": [
        {
          "output_type": "stream",
          "name": "stdout",
          "text": [
            "torch.float32\n",
            "tensor([[245.0057, 243.4297, 248.3800,  ..., 250.1528, 249.3246, 249.5730],\n",
            "        [247.6737, 245.3839, 249.6715,  ..., 254.7126, 250.3866, 255.9019],\n",
            "        [248.9949, 244.1667, 251.0822,  ..., 252.3083, 246.8981, 248.5526],\n",
            "        ...,\n",
            "        [249.0968, 247.0144, 250.9899,  ..., 252.0136, 251.4379, 257.9677],\n",
            "        [248.8892, 241.8316, 254.4219,  ..., 248.0579, 254.2201, 255.8126],\n",
            "        [236.8207, 239.3120, 236.6023,  ..., 236.7200, 239.6493, 247.0556]],\n",
            "       device='xla:0')\n",
            "torch.Size([1000, 1000])\n"
          ]
        }
      ]
    },
    {
      "cell_type": "code",
      "source": [],
      "metadata": {
        "id": "2yWjDcFc94oU"
      },
      "execution_count": null,
      "outputs": []
    }
  ]
}
